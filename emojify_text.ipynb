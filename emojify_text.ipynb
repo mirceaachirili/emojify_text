{
  "nbformat": 4,
  "nbformat_minor": 5,
  "metadata": {
    "kernelspec": {
      "display_name": "Python 3",
      "language": "python",
      "name": "python3"
    },
    "language_info": {
      "codemirror_mode": {
        "name": "ipython",
        "version": 3
      },
      "file_extension": ".py",
      "mimetype": "text/x-python",
      "name": "python",
      "nbconvert_exporter": "python",
      "pygments_lexer": "ipython3",
      "version": "3.8.8"
    },
    "colab": {
      "name": "emojify_text.ipynb",
      "provenance": [],
      "collapsed_sections": []
    }
  },
  "cells": [
    {
      "cell_type": "markdown",
      "source": [
        "# Emojifier -- using word vector representations to make text messages more expressive"
      ],
      "metadata": {
        "id": "jM_nxBKkmsy7"
      },
      "id": "jM_nxBKkmsy7"
    },
    {
      "cell_type": "markdown",
      "source": [
        "[![Open In Colab](https://colab.research.google.com/assets/colab-badge.svg)](https://colab.research.google.com/drive/1-EH_wrBtgfe4veU2SDQRGh7g3BsparlF?usp=sharing)"
      ],
      "metadata": {
        "id": "pd_qX5q372r5"
      },
      "id": "pd_qX5q372r5"
    },
    {
      "cell_type": "markdown",
      "source": [
        "## Import libraries"
      ],
      "metadata": {
        "id": "xdxehem7nYiY"
      },
      "id": "xdxehem7nYiY"
    },
    {
      "cell_type": "code",
      "metadata": {
        "id": "84937cfa",
        "colab": {
          "base_uri": "https://localhost:8080/"
        },
        "outputId": "bd0d63c7-799e-43f7-f792-bdf2b0a6b5e2"
      },
      "source": [
        "!pip3 install emoji\n",
        "import numpy as np\n",
        "import pandas as pd\n",
        "import emoji\n",
        "import matplotlib.pyplot as plt\n",
        "\n",
        "%matplotlib inline\n",
        "\n",
        "from google.colab import drive\n",
        "drive.mount('/content/drive/')\n",
        "\n"
      ],
      "id": "84937cfa",
      "execution_count": 1,
      "outputs": [
        {
          "output_type": "stream",
          "name": "stdout",
          "text": [
            "Requirement already satisfied: emoji in /usr/local/lib/python3.7/dist-packages (1.6.1)\n",
            "Drive already mounted at /content/drive/; to attempt to forcibly remount, call drive.mount(\"/content/drive/\", force_remount=True).\n"
          ]
        }
      ]
    },
    {
      "cell_type": "markdown",
      "source": [
        "## Read in data"
      ],
      "metadata": {
        "id": "mzCq07NSncVr"
      },
      "id": "mzCq07NSncVr"
    },
    {
      "cell_type": "code",
      "metadata": {
        "colab": {
          "base_uri": "https://localhost:8080/"
        },
        "id": "feee3d1b",
        "outputId": "3c637890-a31e-47d3-f51e-ec2daa799b87"
      },
      "source": [
        "# Training data\n",
        "\n",
        "train_data = pd.read_csv('/content/drive/MyDrive/Colab_notebooks/emojify_text/data/train_emoji.csv', usecols=['text', 'label'])\n",
        "print(train_data.head())\n",
        "\n",
        "train_X, train_Y = train_data['text'], train_data['label']"
      ],
      "id": "feee3d1b",
      "execution_count": 2,
      "outputs": [
        {
          "output_type": "stream",
          "name": "stdout",
          "text": [
            "                              text  label\n",
            "0           never talk to me again      3\n",
            "1  I am proud of your achievements      2\n",
            "2   It is the worst day in my life      3\n",
            "3                 Miss you so much      0\n",
            "4                     food is life      4\n"
          ]
        }
      ]
    },
    {
      "cell_type": "code",
      "metadata": {
        "colab": {
          "base_uri": "https://localhost:8080/"
        },
        "id": "d6141349",
        "outputId": "c0edbf1e-828b-48d8-fe84-df88812d0b5d"
      },
      "source": [
        "# Test data\n",
        "\n",
        "test_data = pd.read_csv('/content/drive/MyDrive/Colab_notebooks/emojify_text/data/test.csv')\n",
        "print(test_data.head())\n",
        "\n",
        "test_X, test_Y = test_data['text'], test_data['label']"
      ],
      "id": "d6141349",
      "execution_count": 3,
      "outputs": [
        {
          "output_type": "stream",
          "name": "stdout",
          "text": [
            "                        text  label\n",
            "0              I want to eat      4\n",
            "1          he did not answer      3\n",
            "2   he got a very nice raise      2\n",
            "3  she got me a nice present      2\n",
            "4   ha ha ha it was so funny      2\n"
          ]
        }
      ]
    },
    {
      "cell_type": "markdown",
      "source": [
        "## Baseline model - word embeddings"
      ],
      "metadata": {
        "id": "yHsy1eWBnn0t"
      },
      "id": "yHsy1eWBnn0t"
    },
    {
      "cell_type": "code",
      "metadata": {
        "colab": {
          "base_uri": "https://localhost:8080/",
          "height": 36
        },
        "id": "31965bb6",
        "outputId": "046b09b8-b4f2-4a78-f60c-e9e6172e0b71"
      },
      "source": [
        "# Emojy labels dictionary\n",
        "\n",
        "emoji_dictionary = {\"0\": \":red_heart:\",\n",
        "                    \"1\": \":soccer_ball:\",\n",
        "                    \"2\": \":grinning_face_with_big_eyes:\",\n",
        "                    \"3\": \":disappointed_face:\",\n",
        "                    \"4\": \":fork_and_knife:\"}\n",
        "\n",
        "def label_to_emoji(label):\n",
        "    '''\n",
        "    Convert label (int or string) into corresponding emoji\n",
        "    '''\n",
        "    return emoji.emojize(emoji_dictionary[str(label)])\n",
        "\n",
        "label_to_emoji(1)"
      ],
      "id": "31965bb6",
      "execution_count": 4,
      "outputs": [
        {
          "output_type": "execute_result",
          "data": {
            "application/vnd.google.colaboratory.intrinsic+json": {
              "type": "string"
            },
            "text/plain": [
              "'⚽'"
            ]
          },
          "metadata": {},
          "execution_count": 4
        }
      ]
    },
    {
      "cell_type": "code",
      "metadata": {
        "colab": {
          "base_uri": "https://localhost:8080/"
        },
        "id": "e6387335",
        "outputId": "ea9525f1-4e75-4587-d858-87455144aa2f"
      },
      "source": [
        "# Preview training data \n",
        "\n",
        "for i in range(10):\n",
        "    print(train_X[i], label_to_emoji(train_Y[i]))"
      ],
      "id": "e6387335",
      "execution_count": 5,
      "outputs": [
        {
          "output_type": "stream",
          "name": "stdout",
          "text": [
            "never talk to me again 😞\n",
            "I am proud of your achievements 😃\n",
            "It is the worst day in my life 😞\n",
            "Miss you so much ❤️\n",
            "food is life 🍴\n",
            "I love you mum ❤️\n",
            "Stop saying nonsense 😞\n",
            "congratulations on your acceptance 😃\n",
            "The assignment is too long  😞\n",
            "I want to go play ⚽\n"
          ]
        }
      ]
    },
    {
      "cell_type": "markdown",
      "metadata": {
        "id": "a7f237db"
      },
      "source": [
        "### Transform labels to one hot representations"
      ],
      "id": "a7f237db"
    },
    {
      "cell_type": "code",
      "metadata": {
        "id": "30a303c8"
      },
      "source": [
        "# Convert label to one-hot vector\n",
        "\n",
        "def convert_to_one_hot(Y, C):\n",
        "    '''\n",
        "    Convert label series into a one-hot representation of shape(no examples, C)\n",
        "    '''\n",
        "    Y = np.eye(C)[Y]\n",
        "    return Y"
      ],
      "id": "30a303c8",
      "execution_count": 6,
      "outputs": []
    },
    {
      "cell_type": "code",
      "metadata": {
        "id": "f716146a"
      },
      "source": [
        "C = 5     # number of distinct labels\n",
        "\n",
        "train_Y_oh = convert_to_one_hot(train_Y, C)\n",
        "test_Y_oh = convert_to_one_hot(test_Y, C)"
      ],
      "id": "f716146a",
      "execution_count": 7,
      "outputs": []
    },
    {
      "cell_type": "code",
      "metadata": {
        "colab": {
          "base_uri": "https://localhost:8080/"
        },
        "id": "d53edc65",
        "outputId": "659b3bae-b03e-4946-8691-a9c10c5d679c"
      },
      "source": [
        "# Test convert_to_one_hot()\n",
        "\n",
        "idx = 23\n",
        "print(f\"The text '{train_X[idx]}' has label index {train_Y[idx]} and emoji {label_to_emoji(train_Y[idx])}\")\n",
        "print(f\"Label index {train_Y[idx]} in one-hot encoding is {train_Y_oh[idx]}\")"
      ],
      "id": "d53edc65",
      "execution_count": 8,
      "outputs": [
        {
          "output_type": "stream",
          "name": "stdout",
          "text": [
            "The text 'It was funny lol' has label index 2 and emoji 😃\n",
            "Label index 2 in one-hot encoding is [0. 0. 1. 0. 0.]\n"
          ]
        }
      ]
    },
    {
      "cell_type": "markdown",
      "source": [
        "### GloVe embeddings\n",
        "- Convert each word in the input sentence into word vector representations\n",
        "- use pre-trained 50 dimensional GloVe  embeddings"
      ],
      "metadata": {
        "id": "ODn3ki0gpK42"
      },
      "id": "ODn3ki0gpK42"
    },
    {
      "cell_type": "code",
      "metadata": {
        "id": "99b7f1bc"
      },
      "source": [
        "def read_glove_vecs(glove_file):\n",
        "    with open(glove_file, 'r') as f:\n",
        "        words = set()\n",
        "        word_to_vec_map = {}\n",
        "        for line in f:\n",
        "            line = line.strip().split()\n",
        "            curr_word = line[0]\n",
        "            words.add(curr_word)\n",
        "            word_to_vec_map[curr_word] = np.array(line[1:], dtype=np.float64)\n",
        "        \n",
        "        i = 1\n",
        "        words_to_index = {}\n",
        "        index_to_words = {}\n",
        "        for w in sorted(words):\n",
        "            words_to_index[w] = i\n",
        "            index_to_words[i] = w\n",
        "            i = i + 1\n",
        "    return words_to_index, index_to_words, word_to_vec_map"
      ],
      "id": "99b7f1bc",
      "execution_count": 9,
      "outputs": []
    },
    {
      "cell_type": "markdown",
      "source": [
        "#### GloVe embeddings contain:\n",
        "- word_to_index: dictionary mapping from words to their indices in the vocabulary\n",
        "- index_to_word: dictionary mapping from indices to their corresponding words in the vocabulary\n",
        "- word_to_vec_map: dictionary mapping words to their GloVe vector representation.\n"
      ],
      "metadata": {
        "id": "5cdNHeIHqh1A"
      },
      "id": "5cdNHeIHqh1A"
    },
    {
      "cell_type": "code",
      "metadata": {
        "id": "6385ccd6"
      },
      "source": [
        "word_to_index, index_to_word, word_to_vec = read_glove_vecs('/content/drive/MyDrive/Colab_notebooks/emojify_text/data/glove.6B.50d.txt')"
      ],
      "id": "6385ccd6",
      "execution_count": 10,
      "outputs": []
    },
    {
      "cell_type": "code",
      "metadata": {
        "colab": {
          "base_uri": "https://localhost:8080/"
        },
        "id": "a8f47440",
        "outputId": "821556d7-25d2-4d7f-a6e7-9af89760a60e"
      },
      "source": [
        "# Test out embeddings\n",
        "\n",
        "word = 'water'\n",
        "idx = 999\n",
        "\n",
        "print('The index of', word, 'in the vocabulary is', word_to_index[word])\n",
        "print('The', str(idx), 'th word in the vocabulary is', index_to_word[idx])"
      ],
      "id": "a8f47440",
      "execution_count": 11,
      "outputs": [
        {
          "output_type": "stream",
          "name": "stdout",
          "text": [
            "The index of water in the vocabulary is 383772\n",
            "The 999 th word in the vocabulary is .169\n"
          ]
        }
      ]
    },
    {
      "cell_type": "markdown",
      "source": [
        "#### Average vector encoding "
      ],
      "metadata": {
        "id": "9RWovGc8rebK"
      },
      "id": "9RWovGc8rebK"
    },
    {
      "cell_type": "code",
      "metadata": {
        "id": "1ba138b1"
      },
      "source": [
        "def sentence_to_avg(sentence, word_to_vec_map):\n",
        "    \"\"\"\n",
        "    Converts a sentence (string) into a list of words (strings). Extracts the GloVe representation of each word\n",
        "    and averages its value into a single vector encoding the meaning of the sentence.\n",
        "    \n",
        "    Arguments:\n",
        "    sentence -- string, one training example from X\n",
        "    word_to_vec_map -- dictionary mapping every word in a vocabulary into its 50-dimensional vector representation\n",
        "    \n",
        "    Returns:\n",
        "    avg -- average vector encoding information about the sentence, numpy-array of shape (50,)\n",
        "    \"\"\"\n",
        "    # Split sentence into list of lower case words\n",
        "    words = sentence.lower().split()\n",
        "\n",
        "    # Initialize the average word vector\n",
        "    avg = np.zeros(word_to_vec_map[words[0]].shape)\n",
        "    \n",
        "    # Average the word vectors\n",
        "    total = 0\n",
        "    for w in words:\n",
        "        total += word_to_vec_map[w]\n",
        "    avg = total / len(words)\n",
        "\n",
        "    return avg"
      ],
      "id": "1ba138b1",
      "execution_count": 12,
      "outputs": []
    },
    {
      "cell_type": "code",
      "metadata": {
        "colab": {
          "base_uri": "https://localhost:8080/"
        },
        "id": "e2566fd7",
        "outputId": "9c939bc3-d0ef-4994-87ac-e115374c0afd"
      },
      "source": [
        "avg = sentence_to_avg('I love sunsets', word_to_vec)\n",
        "print('I love sunsets encoding average: \\n', avg)"
      ],
      "id": "e2566fd7",
      "execution_count": 13,
      "outputs": [
        {
          "output_type": "stream",
          "name": "stdout",
          "text": [
            "I love sunsets encoding average: \n",
            " [ 0.10978333  0.57714    -0.673831   -0.28422667  0.29515333 -0.13805667\n",
            " -0.23757967  0.09000013 -0.46179933  0.67011919 -0.51072667  0.54014\n",
            " -0.21834    -0.10426267  0.72390933 -0.10670667  0.23843     0.05800667\n",
            " -0.30102167 -0.59669967 -0.48771     0.90600667  0.65156    -0.12264667\n",
            "  1.14354667 -0.94526667 -1.22976667  0.46481333  0.96599333 -0.91517333\n",
            "  1.95159667  0.66615333 -0.45729333  0.1167     -0.19312067 -0.18638\n",
            "  0.02023667  0.07492533 -0.23407667 -0.35408667 -0.26284777 -0.03138933\n",
            " -0.07115333  0.13088706 -0.051248    0.10733333  0.00900467 -0.94382\n",
            " -0.08204333  0.28222667]\n"
          ]
        }
      ]
    },
    {
      "cell_type": "markdown",
      "source": [
        "### Build model"
      ],
      "metadata": {
        "id": "x0YXkpP6rsZh"
      },
      "id": "x0YXkpP6rsZh"
    },
    {
      "cell_type": "code",
      "metadata": {
        "id": "57e2b5ac"
      },
      "source": [
        "def softmax(x):\n",
        "    \"\"\"Compute softmax values for each sets of scores in x.\"\"\"\n",
        "    e_x = np.exp(x - np.max(x))\n",
        "    return e_x / e_x.sum()\n",
        "\n",
        "\n",
        "def predict(X, Y, W, b, word_to_vec_map):\n",
        "    \"\"\"\n",
        "    Given X (sentences) and Y (emoji indices), predict emojis and compute the accuracy of your model over the given set.\n",
        "    \n",
        "    Arguments:\n",
        "    X -- input data containing sentences, numpy array of shape (m, None)\n",
        "    Y -- labels, containing index of the label emoji, numpy array of shape (m, 1)\n",
        "    \n",
        "    Returns:\n",
        "    pred -- numpy array of shape (m, 1) with your predictions\n",
        "    \"\"\"\n",
        "    m = X.shape[0]\n",
        "    pred = np.zeros((m, 1))\n",
        "    \n",
        "    for j in range(m):                       # Loop over training examples\n",
        "        \n",
        "        # Split jth test example (sentence) into list of lower case words\n",
        "        words = X[j].lower().split()\n",
        "        \n",
        "        # Average words' vectors\n",
        "        avg = np.zeros((50,))\n",
        "        for w in words:\n",
        "            avg += word_to_vec_map[w]\n",
        "        avg = avg/len(words)\n",
        "\n",
        "        # Forward propagation\n",
        "        Z = np.dot(W, avg) + b\n",
        "        A = softmax(Z)\n",
        "        pred[j] = np.argmax(A)\n",
        "        \n",
        "    print(\"Accuracy: \"  + str(np.mean((pred[:] == Y.reshape(Y.shape[0],1)[:]))))\n",
        "    \n",
        "    return pred\n",
        "\n",
        "\n",
        "def model(X, Y, word_to_vec_map, learning_rate = 0.01, num_iterations = 400):\n",
        "    \"\"\"\n",
        "    Model to train word vector representations in numpy.\n",
        "    \n",
        "    Arguments:\n",
        "    X -- input data, numpy array of sentences as strings, of shape (m, 1)\n",
        "    Y -- labels, numpy array of integers between 0 and 7, numpy-array of shape (m, 1)\n",
        "    word_to_vec_map -- dictionary mapping every word in a vocabulary into its 50-dimensional vector representation\n",
        "    learning_rate -- learning_rate for the stochastic gradient descent algorithm\n",
        "    num_iterations -- number of iterations\n",
        "    \n",
        "    Returns:\n",
        "    pred -- vector of predictions, numpy-array of shape (m, 1)\n",
        "    W -- weight matrix of the softmax layer, of shape (n_y, n_h)\n",
        "    b -- bias of the softmax layer, of shape (n_y,)\n",
        "    \"\"\"\n",
        "    \n",
        "    np.random.seed(1)\n",
        "\n",
        "    # Define number of training examples\n",
        "    m = Y.shape[0]                          # number of training examples\n",
        "    n_y = 5                                 # number of classes  \n",
        "    n_h = 50                                # dimensions of the GloVe vectors \n",
        "    \n",
        "    # Initialize parameters using Xavier initialization\n",
        "    W = np.random.randn(n_y, n_h) / np.sqrt(n_h)\n",
        "    b = np.zeros((n_y,))\n",
        "    \n",
        "    # Convert Y to Y_onehot with n_y classes\n",
        "    Y_oh = convert_to_one_hot(Y, C = n_y) \n",
        "    \n",
        "    # Optimization loop\n",
        "    for t in range(num_iterations): # Loop over the number of iterations\n",
        "        for i in range(m):          # Loop over the training examples\n",
        "            \n",
        "            # Average the word vectors of the words from the i'th training example\n",
        "            avg = sentence_to_avg(X[i], word_to_vec_map)\n",
        "\n",
        "            # Forward propagate the avg through the softmax layer\n",
        "            z = np.dot(W, avg) + b\n",
        "            a = softmax(z)\n",
        "\n",
        "            # Compute cost using the i'th training label's one hot representation and \"A\" (the output of the softmax)\n",
        "            cost = -(np.sum(Y_oh[i] * np.log(a)))\n",
        "            ### END CODE HERE ###\n",
        "            \n",
        "            # Compute gradients \n",
        "            dz = a - Y_oh[i]\n",
        "            dW = np.dot(dz.reshape(n_y,1), avg.reshape(1, n_h))\n",
        "            db = dz\n",
        "\n",
        "            # Update parameters with Stochastic Gradient Descent\n",
        "            W = W - learning_rate * dW\n",
        "            b = b - learning_rate * db\n",
        "        \n",
        "        if t % 100 == 0:\n",
        "            print(\"Epoch: \" + str(t) + \" --- cost = \" + str(cost))\n",
        "            pred = predict(X, Y, W, b, word_to_vec_map)\n",
        "\n",
        "    return pred, W, b"
      ],
      "id": "57e2b5ac",
      "execution_count": 14,
      "outputs": []
    },
    {
      "cell_type": "markdown",
      "source": [
        "#### Test model"
      ],
      "metadata": {
        "id": "V96J13UzsvrN"
      },
      "id": "V96J13UzsvrN"
    },
    {
      "cell_type": "code",
      "metadata": {
        "id": "e82c078e",
        "colab": {
          "base_uri": "https://localhost:8080/"
        },
        "outputId": "dff2f027-b019-434c-f67b-1c72ad07db16"
      },
      "source": [
        "print(train_X.shape)\n",
        "print(train_Y.shape)\n",
        "print(np.eye(5)[train_Y].shape)\n",
        "print(train_X[0])\n",
        "print(type(train_X))\n",
        "Y = np.asarray([5,0,0,5, 4, 4, 4, 6, 6, 4, 1, 1, 5, 6, 6, 3, 6, 3, 4, 4])\n",
        "print(Y.shape)\n",
        "\n",
        "X = np.asarray(['I am going to the bar tonight', 'I love you', 'miss you my dear',\n",
        " 'Lets go party and drinks','Congrats on the new job','Congratulations',\n",
        " 'I am so happy for you', 'Why are you feeling bad', 'What is wrong with you',\n",
        " 'You totally deserve this prize', 'Let us go play football',\n",
        " 'Are you down for football this afternoon', 'Work hard play harder',\n",
        " 'It is suprising how people can be dumb sometimes',\n",
        " 'I am very disappointed','It is the best day in my life',\n",
        " 'I think I will end up alone','My life is so boring','Good job',\n",
        " 'Great so awesome'])\n",
        "\n",
        "print(X.shape)\n",
        "print(np.eye(5)[train_Y].shape)\n",
        "print(type(train_X))\n"
      ],
      "id": "e82c078e",
      "execution_count": 15,
      "outputs": [
        {
          "output_type": "stream",
          "name": "stdout",
          "text": [
            "(132,)\n",
            "(132,)\n",
            "(132, 5)\n",
            "never talk to me again\n",
            "<class 'pandas.core.series.Series'>\n",
            "(20,)\n",
            "(20,)\n",
            "(132, 5)\n",
            "<class 'pandas.core.series.Series'>\n"
          ]
        }
      ]
    },
    {
      "cell_type": "code",
      "metadata": {
        "id": "d7e1d8b8",
        "colab": {
          "base_uri": "https://localhost:8080/"
        },
        "outputId": "7bafb289-f6c0-4064-8eb0-b7ebfe094d4e"
      },
      "source": [
        "pred, W, b = model(train_X.to_numpy(), train_Y.to_numpy(), word_to_vec)\n",
        "print(pred[:5])\n"
      ],
      "id": "d7e1d8b8",
      "execution_count": 16,
      "outputs": [
        {
          "output_type": "stream",
          "name": "stdout",
          "text": [
            "Epoch: 0 --- cost = 1.9522788122278665\n",
            "Accuracy: 0.3484848484848485\n",
            "Epoch: 100 --- cost = 0.0796627681081378\n",
            "Accuracy: 0.9318181818181818\n",
            "Epoch: 200 --- cost = 0.04475020701375957\n",
            "Accuracy: 0.9621212121212122\n",
            "Epoch: 300 --- cost = 0.03452480553386658\n",
            "Accuracy: 0.9696969696969697\n",
            "[[3.]\n",
            " [2.]\n",
            " [3.]\n",
            " [0.]\n",
            " [4.]]\n"
          ]
        }
      ]
    },
    {
      "cell_type": "code",
      "metadata": {
        "id": "667bd853",
        "colab": {
          "base_uri": "https://localhost:8080/"
        },
        "outputId": "b5a5fc39-8187-4fde-a983-46586fec824d"
      },
      "source": [
        "print(\"Training set:\")\n",
        "pred_train = predict(train_X.to_numpy(), train_Y.to_numpy(), W, b, word_to_vec)\n",
        "print('Test set:')\n",
        "pred_test = predict(test_X.to_numpy(), test_Y.to_numpy(), W, b, word_to_vec)"
      ],
      "id": "667bd853",
      "execution_count": 17,
      "outputs": [
        {
          "output_type": "stream",
          "name": "stdout",
          "text": [
            "Training set:\n",
            "Accuracy: 0.9772727272727273\n",
            "Test set:\n",
            "Accuracy: 0.8571428571428571\n"
          ]
        }
      ]
    },
    {
      "cell_type": "code",
      "metadata": {
        "id": "053075df"
      },
      "source": [
        "def print_predictions(X, pred):\n",
        "    print()\n",
        "    for i in range(X.shape[0]):\n",
        "        print(X[i], label_to_emoji(int(pred[i])))"
      ],
      "id": "053075df",
      "execution_count": 18,
      "outputs": []
    },
    {
      "cell_type": "code",
      "metadata": {
        "id": "6c6d460a",
        "colab": {
          "base_uri": "https://localhost:8080/"
        },
        "outputId": "a57075aa-5b17-4666-9582-513ddff0d839"
      },
      "source": [
        "X_my_sentences = np.array([\"i adore you\", \n",
        "                           \"i love you\", \n",
        "                           \"funny lol\", \n",
        "                           \"lets play with a ball\", \n",
        "                           \"food is ready\", \n",
        "                           \"not feeling joyful\"])\n",
        "\n",
        "Y_my_labels = np.array([[0], [0], [2], [1], [4],[3]])\n",
        "\n",
        "pred = predict(X_my_sentences, Y_my_labels , W, b, word_to_vec)\n",
        "print_predictions(X_my_sentences, pred)"
      ],
      "id": "6c6d460a",
      "execution_count": 19,
      "outputs": [
        {
          "output_type": "stream",
          "name": "stdout",
          "text": [
            "Accuracy: 0.8333333333333334\n",
            "\n",
            "i adore you ❤️\n",
            "i love you ❤️\n",
            "funny lol 😃\n",
            "lets play with a ball ⚽\n",
            "food is ready 🍴\n",
            "not feeling joyful 😃\n"
          ]
        }
      ]
    },
    {
      "cell_type": "markdown",
      "source": [
        "## LSTM model using Keras"
      ],
      "metadata": {
        "id": "mPJSF1lmtGGO"
      },
      "id": "mPJSF1lmtGGO"
    },
    {
      "cell_type": "code",
      "metadata": {
        "id": "8AejZoVoBeOt"
      },
      "source": [
        "import numpy as np\n",
        "np.random.seed(1)\n",
        "from keras.models import Model\n",
        "from keras.layers import Dense, Input, Dropout, LSTM, Activation\n",
        "from keras.layers.embeddings import Embedding\n",
        "from keras.preprocessing import sequence\n",
        "from keras.initializers import glorot_uniform\n"
      ],
      "id": "8AejZoVoBeOt",
      "execution_count": 20,
      "outputs": []
    },
    {
      "cell_type": "markdown",
      "source": [
        "This model:  \n",
        "- will be able to account for the word ordering.\n",
        "- will continue to use pre-trained word embeddings to represent words.\n",
        "\n",
        "We will feed word embeddings into an LSTM.\n",
        "The LSTM will learn to predict the most appropriate emoji."
      ],
      "metadata": {
        "id": "Cu9Y2xSptN4l"
      },
      "id": "Cu9Y2xSptN4l"
    },
    {
      "cell_type": "markdown",
      "source": [
        "![emojifier-v2.png](data:image/png;base64,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)\n"
      ],
      "metadata": {
        "id": "TfdWP1H9trm_"
      },
      "id": "TfdWP1H9trm_"
    },
    {
      "cell_type": "code",
      "metadata": {
        "id": "EsnLn-02Bkoj"
      },
      "source": [
        "def sentences_to_indices(X, word_to_index, max_len):\n",
        "    \"\"\"\n",
        "    Converts an array of sentences (strings) into an array of indices corresponding to words in the sentences.\n",
        "    The output shape should be such that it can be given to `Embedding()`\n",
        "    \n",
        "    Arguments:\n",
        "    X -- array of sentences (strings), of shape (m, 1)\n",
        "    word_to_index -- a dictionary containing the each word mapped to its index\n",
        "    max_len -- maximum number of words in a sentence\n",
        "    \n",
        "    Returns:\n",
        "    X_indices -- array of indices corresponding to words in the sentences from X, of shape (m, max_len)\n",
        "    \"\"\"\n",
        "    \n",
        "    m = X.shape[0]                                   # number of training examples\n",
        "\n",
        "    # Initialize X_indices as a numpy matrix of zeros\n",
        "    X_indices = np.zeros((m, max_len))\n",
        "    \n",
        "    for i in range(m):                               # loop over training examples\n",
        "        \n",
        "        # Convert the ith training sentence in lower case and split is into words\n",
        "        sentence_words = X[i].lower().split()\n",
        "        \n",
        "        # Initialize j to 0\n",
        "        j = 0\n",
        "        \n",
        "        # Loop over the words of sentence_words\n",
        "        for w in sentence_words:\n",
        "            # Set the (i,j)th entry of X_indices to the index of the correct word.\n",
        "            X_indices[i, j] = word_to_index[w]\n",
        "            # Increment j to j + 1\n",
        "            j = j + 1\n",
        "            \n",
        "    return X_indices"
      ],
      "id": "EsnLn-02Bkoj",
      "execution_count": 21,
      "outputs": []
    },
    {
      "cell_type": "code",
      "metadata": {
        "id": "D9mR3cxdyCPF",
        "colab": {
          "base_uri": "https://localhost:8080/"
        },
        "outputId": "1b02c129-0d21-4b9e-fbd6-38be9c317160"
      },
      "source": [
        "X1 = np.array([\"funny lol\", \"lets play baseball\", \"food is ready for you\"])\n",
        "X1_indices = sentences_to_indices(X1,word_to_index, max_len = 5)\n",
        "print(\"X1 =\", X1)\n",
        "print(\"X1_indices =\\n\", X1_indices)"
      ],
      "id": "D9mR3cxdyCPF",
      "execution_count": 22,
      "outputs": [
        {
          "output_type": "stream",
          "name": "stdout",
          "text": [
            "X1 = ['funny lol' 'lets play baseball' 'food is ready for you']\n",
            "X1_indices =\n",
            " [[155345. 225122.      0.      0.      0.]\n",
            " [220930. 286375.  69714.      0.      0.]\n",
            " [151204. 192973. 302254. 151349. 394475.]]\n"
          ]
        }
      ]
    },
    {
      "cell_type": "code",
      "metadata": {
        "id": "z8ODMygwyD-4"
      },
      "source": [
        "def pretrained_embedding_layer(word_to_vec, word_to_index):\n",
        "    \"\"\"\n",
        "    Creates a Keras Embedding() layer and loads in pre-trained GloVe 50-dimensional vectors.\n",
        "    \n",
        "    Arguments:\n",
        "    word_to_vec -- dictionary mapping words to their GloVe vector representation.\n",
        "    word_to_index -- dictionary mapping from words to their indices in the vocabulary (400,001 words)\n",
        "\n",
        "    Returns:\n",
        "    embedding_layer -- pretrained layer Keras instance\n",
        "    \"\"\"\n",
        "    \n",
        "    vocab_len = len(word_to_index) + 1                  # adding 1 to fit Keras embedding (requirement)\n",
        "    emb_dim = 50                                        # define dimensionality of GloVe word vectors (= 50)\n",
        "    \n",
        "    # Initialize the embedding matrix as a numpy array of zeros.\n",
        "    emb_matrix = np.zeros((vocab_len, emb_dim))\n",
        "    \n",
        "    # Set each row \"idx\" of the embedding matrix to be \n",
        "    # the word vector representation of the idx'th word of the vocabulary\n",
        "    for word, idx in word_to_index.items():\n",
        "        emb_matrix[idx, :] = word_to_vec[word]\n",
        "\n",
        "    # Define Keras embedding layer with the correct input and output sizes\n",
        "    # Make it non-trainable.\n",
        "    embedding_layer = Embedding(input_dim = vocab_len, output_dim = emb_dim, trainable=False)\n",
        "\n",
        "    # Build the embedding layer, it is required before setting the weights of the embedding layer. \n",
        "    embedding_layer.build((None,))\n",
        "    \n",
        "    # Set the weights of the embedding layer to the embedding matrix. The layer is now pretrained.\n",
        "    embedding_layer.set_weights([emb_matrix])\n",
        "    \n",
        "    return embedding_layer"
      ],
      "id": "z8ODMygwyD-4",
      "execution_count": 23,
      "outputs": []
    },
    {
      "cell_type": "code",
      "metadata": {
        "colab": {
          "base_uri": "https://localhost:8080/"
        },
        "id": "j8GtNA_zKm_M",
        "outputId": "ae2e5510-4140-4658-8f96-bbb6573b6c8b"
      },
      "source": [
        "embedding_layer = pretrained_embedding_layer(word_to_vec, word_to_index)\n",
        "print(\"weights[0][2][3] =\", embedding_layer.get_weights()[0][2][3])"
      ],
      "id": "j8GtNA_zKm_M",
      "execution_count": 24,
      "outputs": [
        {
          "output_type": "stream",
          "name": "stdout",
          "text": [
            "weights[0][2][3] = 0.056907\n"
          ]
        }
      ]
    },
    {
      "cell_type": "code",
      "metadata": {
        "id": "jJiMQ43xKnoO"
      },
      "source": [
        "def Emojify_V2(input_shape, word_to_vec, word_to_index):\n",
        "    \"\"\"\n",
        "    Function creating the model's graph.\n",
        "    \n",
        "    Arguments:\n",
        "    input_shape -- shape of the input, usually (max_len,)\n",
        "    word_to_vec -- dictionary mapping every word in a vocabulary into its 50-dimensional vector representation\n",
        "    word_to_index -- dictionary mapping from words to their indices in the vocabulary (400,001 words)\n",
        "\n",
        "    Returns:\n",
        "    model -- a model instance in Keras\n",
        "    \"\"\"\n",
        "    \n",
        "    # Define sentence_indices as the input of the graph.\n",
        "    # It should be of shape input_shape and dtype 'int32' (as it contains indices, which are integers).\n",
        "    sentence_indices = Input(shape = input_shape, dtype = 'int32')\n",
        "    \n",
        "    # Create the embedding layer pretrained with GloVe Vectors (≈1 line)\n",
        "    embedding_layer = pretrained_embedding_layer(word_to_vec, word_to_index)\n",
        "    \n",
        "    # Propagate sentence_indices through your embedding layer\n",
        "    embeddings = embedding_layer(sentence_indices)   \n",
        "    \n",
        "    # Propagate the embeddings through an LSTM layer with 128-dimensional hidden state\n",
        "    # The returned output should be a batch of sequences.\n",
        "    X = LSTM(units=128, return_sequences=True)(embeddings)\n",
        "    # Add dropout with a probability of 0.5\n",
        "    X = Dropout(rate = 0.5)(X)\n",
        "    # Propagate X trough another LSTM layer with 128-dimensional hidden state\n",
        "    # The returned output should be a single hidden state, not a batch of sequences.\n",
        "    X = LSTM(units=128, return_sequences=False)(X)\n",
        "    # Add dropout with a probability of 0.5\n",
        "    X = Dropout(rate = 0.5)(X)\n",
        "    # Propagate X through a Dense layer with 5 units\n",
        "    X = Dense(units = 5)(X)\n",
        "    # Add a softmax activation\n",
        "    X = Activation('softmax')(X)\n",
        "    \n",
        "    # Create Model instance which converts sentence_indices into X.\n",
        "    model = Model(inputs=[sentence_indices], outputs=X)\n",
        "    \n",
        "    ### END CODE HERE ###\n",
        "    \n",
        "    return model"
      ],
      "id": "jJiMQ43xKnoO",
      "execution_count": 25,
      "outputs": []
    },
    {
      "cell_type": "code",
      "metadata": {
        "colab": {
          "base_uri": "https://localhost:8080/"
        },
        "id": "Yakpv5BLLcnW",
        "outputId": "79c199b7-7d65-4cf9-d17c-d63f15b12fee"
      },
      "source": [
        "max_len = len(max(train_X, key=len).split())\n",
        "\n",
        "model = Emojify_V2((max_len,), word_to_vec, word_to_index)\n",
        "model.summary()"
      ],
      "id": "Yakpv5BLLcnW",
      "execution_count": 26,
      "outputs": [
        {
          "output_type": "stream",
          "name": "stdout",
          "text": [
            "Model: \"model\"\n",
            "_________________________________________________________________\n",
            " Layer (type)                Output Shape              Param #   \n",
            "=================================================================\n",
            " input_1 (InputLayer)        [(None, 10)]              0         \n",
            "                                                                 \n",
            " embedding_1 (Embedding)     (None, 10, 50)            20000050  \n",
            "                                                                 \n",
            " lstm (LSTM)                 (None, 10, 128)           91648     \n",
            "                                                                 \n",
            " dropout (Dropout)           (None, 10, 128)           0         \n",
            "                                                                 \n",
            " lstm_1 (LSTM)               (None, 128)               131584    \n",
            "                                                                 \n",
            " dropout_1 (Dropout)         (None, 128)               0         \n",
            "                                                                 \n",
            " dense (Dense)               (None, 5)                 645       \n",
            "                                                                 \n",
            " activation (Activation)     (None, 5)                 0         \n",
            "                                                                 \n",
            "=================================================================\n",
            "Total params: 20,223,927\n",
            "Trainable params: 223,877\n",
            "Non-trainable params: 20,000,050\n",
            "_________________________________________________________________\n"
          ]
        }
      ]
    },
    {
      "cell_type": "code",
      "metadata": {
        "id": "mxyhndhPQelp"
      },
      "source": [
        "model.compile(loss='categorical_crossentropy', optimizer='adam', metrics=['accuracy'])"
      ],
      "id": "mxyhndhPQelp",
      "execution_count": 27,
      "outputs": []
    },
    {
      "cell_type": "code",
      "metadata": {
        "id": "-9wt-eUITJFN"
      },
      "source": [
        "train_X_indices = sentences_to_indices(train_X, word_to_index, max_len)\n"
      ],
      "id": "-9wt-eUITJFN",
      "execution_count": 28,
      "outputs": []
    },
    {
      "cell_type": "code",
      "metadata": {
        "colab": {
          "base_uri": "https://localhost:8080/"
        },
        "id": "Mg241hwhTiYa",
        "outputId": "75d92e49-957f-4633-acb6-93feb3aaa751"
      },
      "source": [
        "model.fit(train_X_indices, train_Y_oh, epochs=50, batch_size=32, shuffle=True)"
      ],
      "id": "Mg241hwhTiYa",
      "execution_count": 29,
      "outputs": [
        {
          "output_type": "stream",
          "name": "stdout",
          "text": [
            "Epoch 1/50\n",
            "5/5 [==============================] - 3s 21ms/step - loss: 1.5886 - accuracy: 0.2955\n",
            "Epoch 2/50\n",
            "5/5 [==============================] - 0s 21ms/step - loss: 1.5132 - accuracy: 0.3409\n",
            "Epoch 3/50\n",
            "5/5 [==============================] - 0s 23ms/step - loss: 1.4440 - accuracy: 0.4167\n",
            "Epoch 4/50\n",
            "5/5 [==============================] - 0s 22ms/step - loss: 1.3701 - accuracy: 0.4318\n",
            "Epoch 5/50\n",
            "5/5 [==============================] - 0s 21ms/step - loss: 1.2369 - accuracy: 0.5909\n",
            "Epoch 6/50\n",
            "5/5 [==============================] - 0s 21ms/step - loss: 1.1713 - accuracy: 0.5682\n",
            "Epoch 7/50\n",
            "5/5 [==============================] - 0s 21ms/step - loss: 0.9515 - accuracy: 0.6288\n",
            "Epoch 8/50\n",
            "5/5 [==============================] - 0s 21ms/step - loss: 0.9544 - accuracy: 0.5985\n",
            "Epoch 9/50\n",
            "5/5 [==============================] - 0s 20ms/step - loss: 0.7714 - accuracy: 0.7273\n",
            "Epoch 10/50\n",
            "5/5 [==============================] - 0s 21ms/step - loss: 0.7276 - accuracy: 0.6970\n",
            "Epoch 11/50\n",
            "5/5 [==============================] - 0s 19ms/step - loss: 0.5997 - accuracy: 0.7652\n",
            "Epoch 12/50\n",
            "5/5 [==============================] - 0s 22ms/step - loss: 0.5728 - accuracy: 0.7879\n",
            "Epoch 13/50\n",
            "5/5 [==============================] - 0s 22ms/step - loss: 0.5733 - accuracy: 0.7955\n",
            "Epoch 14/50\n",
            "5/5 [==============================] - 0s 20ms/step - loss: 0.4556 - accuracy: 0.8333\n",
            "Epoch 15/50\n",
            "5/5 [==============================] - 0s 21ms/step - loss: 0.3805 - accuracy: 0.8864\n",
            "Epoch 16/50\n",
            "5/5 [==============================] - 0s 21ms/step - loss: 0.2963 - accuracy: 0.9091\n",
            "Epoch 17/50\n",
            "5/5 [==============================] - 0s 20ms/step - loss: 0.3783 - accuracy: 0.8409\n",
            "Epoch 18/50\n",
            "5/5 [==============================] - 0s 20ms/step - loss: 0.4006 - accuracy: 0.8636\n",
            "Epoch 19/50\n",
            "5/5 [==============================] - 0s 22ms/step - loss: 0.4350 - accuracy: 0.8258\n",
            "Epoch 20/50\n",
            "5/5 [==============================] - 0s 22ms/step - loss: 0.3135 - accuracy: 0.9091\n",
            "Epoch 21/50\n",
            "5/5 [==============================] - 0s 24ms/step - loss: 0.3081 - accuracy: 0.9015\n",
            "Epoch 22/50\n",
            "5/5 [==============================] - 0s 21ms/step - loss: 0.3312 - accuracy: 0.8939\n",
            "Epoch 23/50\n",
            "5/5 [==============================] - 0s 20ms/step - loss: 0.2572 - accuracy: 0.9318\n",
            "Epoch 24/50\n",
            "5/5 [==============================] - 0s 21ms/step - loss: 0.2279 - accuracy: 0.9318\n",
            "Epoch 25/50\n",
            "5/5 [==============================] - 0s 20ms/step - loss: 0.2112 - accuracy: 0.9394\n",
            "Epoch 26/50\n",
            "5/5 [==============================] - 0s 21ms/step - loss: 0.1400 - accuracy: 0.9621\n",
            "Epoch 27/50\n",
            "5/5 [==============================] - 0s 20ms/step - loss: 0.2331 - accuracy: 0.9470\n",
            "Epoch 28/50\n",
            "5/5 [==============================] - 0s 22ms/step - loss: 0.2747 - accuracy: 0.8864\n",
            "Epoch 29/50\n",
            "5/5 [==============================] - 0s 21ms/step - loss: 0.3309 - accuracy: 0.8939\n",
            "Epoch 30/50\n",
            "5/5 [==============================] - 0s 21ms/step - loss: 0.1767 - accuracy: 0.9470\n",
            "Epoch 31/50\n",
            "5/5 [==============================] - 0s 28ms/step - loss: 0.1766 - accuracy: 0.9545\n",
            "Epoch 32/50\n",
            "5/5 [==============================] - 0s 20ms/step - loss: 0.1635 - accuracy: 0.9545\n",
            "Epoch 33/50\n",
            "5/5 [==============================] - 0s 21ms/step - loss: 0.2226 - accuracy: 0.9470\n",
            "Epoch 34/50\n",
            "5/5 [==============================] - 0s 21ms/step - loss: 0.3074 - accuracy: 0.9167\n",
            "Epoch 35/50\n",
            "5/5 [==============================] - 0s 20ms/step - loss: 0.1537 - accuracy: 0.9545\n",
            "Epoch 36/50\n",
            "5/5 [==============================] - 0s 20ms/step - loss: 0.2969 - accuracy: 0.9091\n",
            "Epoch 37/50\n",
            "5/5 [==============================] - 0s 22ms/step - loss: 0.2641 - accuracy: 0.8864\n",
            "Epoch 38/50\n",
            "5/5 [==============================] - 0s 20ms/step - loss: 0.1894 - accuracy: 0.9091\n",
            "Epoch 39/50\n",
            "5/5 [==============================] - 0s 20ms/step - loss: 0.1424 - accuracy: 0.9394\n",
            "Epoch 40/50\n",
            "5/5 [==============================] - 0s 22ms/step - loss: 0.1244 - accuracy: 0.9621\n",
            "Epoch 41/50\n",
            "5/5 [==============================] - 0s 19ms/step - loss: 0.1432 - accuracy: 0.9318\n",
            "Epoch 42/50\n",
            "5/5 [==============================] - 0s 21ms/step - loss: 0.0761 - accuracy: 0.9924\n",
            "Epoch 43/50\n",
            "5/5 [==============================] - 0s 20ms/step - loss: 0.1424 - accuracy: 0.9318\n",
            "Epoch 44/50\n",
            "5/5 [==============================] - 0s 20ms/step - loss: 0.0670 - accuracy: 1.0000\n",
            "Epoch 45/50\n",
            "5/5 [==============================] - 0s 20ms/step - loss: 0.0536 - accuracy: 0.9924\n",
            "Epoch 46/50\n",
            "5/5 [==============================] - 0s 22ms/step - loss: 0.0370 - accuracy: 1.0000\n",
            "Epoch 47/50\n",
            "5/5 [==============================] - 0s 20ms/step - loss: 0.0407 - accuracy: 0.9848\n",
            "Epoch 48/50\n",
            "5/5 [==============================] - 0s 21ms/step - loss: 0.0260 - accuracy: 1.0000\n",
            "Epoch 49/50\n",
            "5/5 [==============================] - 0s 22ms/step - loss: 0.0269 - accuracy: 1.0000\n",
            "Epoch 50/50\n",
            "5/5 [==============================] - 0s 20ms/step - loss: 0.0177 - accuracy: 1.0000\n"
          ]
        },
        {
          "output_type": "execute_result",
          "data": {
            "text/plain": [
              "<keras.callbacks.History at 0x7f089de80f10>"
            ]
          },
          "metadata": {},
          "execution_count": 29
        }
      ]
    },
    {
      "cell_type": "code",
      "metadata": {
        "colab": {
          "base_uri": "https://localhost:8080/"
        },
        "id": "bwed8F_WTjm8",
        "outputId": "8e4ec88e-c2dd-4f30-ab7b-6c772cbb57c7"
      },
      "source": [
        "test_X_indices = sentences_to_indices(test_X, word_to_index, max_len)\n",
        "\n",
        "loss, acc = model.evaluate(test_X_indices, test_Y_oh)\n",
        "print(acc)"
      ],
      "id": "bwed8F_WTjm8",
      "execution_count": 30,
      "outputs": [
        {
          "output_type": "stream",
          "name": "stdout",
          "text": [
            "2/2 [==============================] - 1s 14ms/step - loss: 0.6455 - accuracy: 0.8393\n",
            "0.8392857313156128\n"
          ]
        }
      ]
    },
    {
      "cell_type": "code",
      "metadata": {
        "colab": {
          "base_uri": "https://localhost:8080/"
        },
        "id": "FYDthr1FUTrn",
        "outputId": "4b4dd53c-7ff5-4db9-fff5-caff29305fe6"
      },
      "source": [
        "pred = model.predict(test_X_indices)\n",
        "for i in range(len(test_X)):\n",
        "    x = test_X_indices\n",
        "    num = np.argmax(pred[i])\n",
        "    if(num != test_Y[i]):\n",
        "        print('Expected emoji:'+ label_to_emoji(test_Y[i]) + ' prediction: '+ test_X[i] + label_to_emoji(num).strip())"
      ],
      "id": "FYDthr1FUTrn",
      "execution_count": 31,
      "outputs": [
        {
          "output_type": "stream",
          "name": "stdout",
          "text": [
            "Expected emoji:😃 prediction: she got me a nice present❤️\n",
            "Expected emoji:😞 prediction: work is hard😃\n",
            "Expected emoji:😞 prediction: This girl is messing with me❤️\n",
            "Expected emoji:😞 prediction: work is horrible😃\n",
            "Expected emoji:🍴 prediction: any suggestions for dinner😃\n",
            "Expected emoji:❤️ prediction: I love taking breaks😞\n",
            "Expected emoji:😃 prediction: you brighten my day❤️\n",
            "Expected emoji:😞 prediction: she is a bully❤️\n",
            "Expected emoji:😃 prediction: will you be my valentine❤️\n"
          ]
        }
      ]
    }
  ]
}